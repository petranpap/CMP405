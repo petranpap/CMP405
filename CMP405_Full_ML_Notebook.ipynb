{
 "cells": [
  {
   "cell_type": "markdown",
   "id": "386b77c8",
   "metadata": {},
   "source": [
    "# 🧠 CMP405 - Machine Learning Project Template\n",
    "Αυτό το notebook είναι ένας οδηγός για να ολοκληρώσεις το ML project σου βήμα-βήμα, χρησιμοποιώντας ένα από τα datasets: Titanic, Customer Churn ή Mall Customers.\n",
    "\n",
    "---"
   ]
  },
  {
   "cell_type": "markdown",
   "id": "9abe0c56",
   "metadata": {},
   "source": [
    "## 🔹 1. Εισαγωγή βιβλιοθηκών"
   ]
  },
  {
   "cell_type": "code",
   "execution_count": null,
   "id": "94061e4b",
   "metadata": {},
   "outputs": [],
   "source": [
    "import pandas as pd\n",
    "import numpy as np\n",
    "import matplotlib.pyplot as plt\n",
    "import seaborn as sns\n",
    "\n",
    "# ML εργαλεία\n",
    "from sklearn.model_selection import train_test_split\n",
    "from sklearn.preprocessing import LabelEncoder, StandardScaler\n",
    "from sklearn.linear_model import LogisticRegression\n",
    "from sklearn.ensemble import RandomForestClassifier\n",
    "from sklearn.cluster import KMeans\n",
    "from sklearn.metrics import accuracy_score, classification_report, confusion_matrix\n",
    "\n",
    "sns.set(style=\"whitegrid\")\n"
   ]
  },
  {
   "cell_type": "markdown",
   "id": "8c14533e",
   "metadata": {},
   "source": [
    "## 🔹 2. Φόρτωση του Dataset"
   ]
  },
  {
   "cell_type": "code",
   "execution_count": null,
   "id": "71477bf6",
   "metadata": {},
   "outputs": [],
   "source": [
    "# df = pd.read_csv('titanic.csv')  # ή churn.csv ή mall_customers.csv\n",
    "# df.head()"
   ]
  },
  {
   "cell_type": "markdown",
   "id": "91f453aa",
   "metadata": {},
   "source": [
    "## 🔹 3. Εξερεύνηση του Dataset"
   ]
  },
  {
   "cell_type": "code",
   "execution_count": null,
   "id": "0c07d333",
   "metadata": {},
   "outputs": [],
   "source": [
    "# print(df.shape)\n",
    "# print(df.info())\n",
    "# print(df.describe())\n",
    "# df.sample(5)"
   ]
  },
  {
   "cell_type": "markdown",
   "id": "a7081b4b",
   "metadata": {},
   "source": [
    "## 🔹 4. Ανάλυση Στόχου"
   ]
  },
  {
   "cell_type": "code",
   "execution_count": null,
   "id": "d3887d80",
   "metadata": {},
   "outputs": [],
   "source": [
    "# df['Survived'].value_counts(normalize=True) * 100  # ή 'Churn'"
   ]
  },
  {
   "cell_type": "markdown",
   "id": "4e60885f",
   "metadata": {},
   "source": [
    "## 🔹 5. Έλεγχος & Καθαρισμός Κενών Τιμών"
   ]
  },
  {
   "cell_type": "code",
   "execution_count": null,
   "id": "4eb77553",
   "metadata": {},
   "outputs": [],
   "source": [
    "# df.isnull().sum()\n",
    "# df['Age'] = df['Age'].fillna(df['Age'].mean())"
   ]
  },
  {
   "cell_type": "markdown",
   "id": "822e379f",
   "metadata": {},
   "source": [
    "## 🔹 6. Encoding Κατηγορικών Μεταβλητών"
   ]
  },
  {
   "cell_type": "code",
   "execution_count": null,
   "id": "c2a68a85",
   "metadata": {},
   "outputs": [],
   "source": [
    "# df['Sex'] = LabelEncoder().fit_transform(df['Sex'])\n",
    "# df = pd.get_dummies(df, columns=['Embarked'])"
   ]
  },
  {
   "cell_type": "markdown",
   "id": "f3c81973",
   "metadata": {},
   "source": [
    "## 🔹 7. Χωρισμός σε Train/Test Sets"
   ]
  },
  {
   "cell_type": "code",
   "execution_count": null,
   "id": "c4c37977",
   "metadata": {},
   "outputs": [],
   "source": [
    "# X = df.drop('Survived', axis=1)\n",
    "# y = df['Survived']\n",
    "# X_train, X_test, y_train, y_test = train_test_split(X, y, test_size=0.2, random_state=42)"
   ]
  },
  {
   "cell_type": "markdown",
   "id": "05ee727e",
   "metadata": {},
   "source": [
    "## 🔹 8. Εκπαίδευση Μοντέλου"
   ]
  },
  {
   "cell_type": "code",
   "execution_count": null,
   "id": "50aea907",
   "metadata": {},
   "outputs": [],
   "source": [
    "# model = LogisticRegression()\n",
    "# model.fit(X_train, y_train)"
   ]
  },
  {
   "cell_type": "markdown",
   "id": "2e96149f",
   "metadata": {},
   "source": [
    "## 🔹 9. Αξιολόγηση Μοντέλου"
   ]
  },
  {
   "cell_type": "code",
   "execution_count": null,
   "id": "ea74a122",
   "metadata": {},
   "outputs": [],
   "source": [
    "# y_pred = model.predict(X_test)\n",
    "# print(\"Accuracy:\", accuracy_score(y_test, y_pred))\n",
    "# print(confusion_matrix(y_test, y_pred))\n",
    "# print(classification_report(y_test, y_pred))"
   ]
  },
  {
   "cell_type": "markdown",
   "id": "172f68bd",
   "metadata": {},
   "source": [
    "## 🔹 10. BONUS: Clustering (π.χ. για mall_customers)"
   ]
  },
  {
   "cell_type": "code",
   "execution_count": null,
   "id": "d32fe403",
   "metadata": {},
   "outputs": [],
   "source": [
    "# scaled = StandardScaler().fit_transform(df[['Age', 'Annual Income (k$)', 'Spending Score (1-100)']])\n",
    "# kmeans = KMeans(n_clusters=3)\n",
    "# clusters = kmeans.fit_predict(scaled)\n",
    "# df['Cluster'] = clusters\n",
    "# sns.scatterplot(x=df['Annual Income (k$)'], y=df['Spending Score (1-100)'], hue=clusters)\n"
   ]
  }
 ],
 "metadata": {},
 "nbformat": 4,
 "nbformat_minor": 5
}
